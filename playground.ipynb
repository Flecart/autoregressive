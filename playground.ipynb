{
 "cells": [
  {
   "cell_type": "code",
   "execution_count": 3,
   "metadata": {},
   "outputs": [
    {
     "name": "stderr",
     "output_type": "stream",
     "text": [
      "/home/angelo/autoregressive/.venv/lib/python3.10/site-packages/datasets/load.py:1486: FutureWarning: The repository for openwebtext contains custom code which must be executed to correctly load the dataset. You can inspect the repository content at https://hf.co/datasets/openwebtext\n",
      "You can avoid this message in future by passing the argument `trust_remote_code=True`.\n",
      "Passing `trust_remote_code=True` will be mandatory to load this dataset from the next major release of `datasets`.\n",
      "  warnings.warn(\n",
      "Downloading builder script: 100%|██████████| 2.73k/2.73k [00:00<00:00, 17.6MB/s]\n",
      "Downloading readme: 100%|██████████| 7.33k/7.33k [00:00<00:00, 11.9MB/s]\n",
      "Downloading data: 100%|██████████| 627M/627M [00:30<00:00, 20.8MB/s]\n",
      "Downloading data: 100%|██████████| 625M/625M [00:44<00:00, 14.2MB/s]\n",
      "Downloading data: 100%|██████████| 619M/619M [00:47<00:00, 12.9MB/s]\n",
      "Downloading data: 100%|██████████| 628M/628M [00:55<00:00, 11.2MB/s]\n",
      "Downloading data: 100%|██████████| 629M/629M [01:00<00:00, 10.3MB/s]\n",
      "Downloading data: 100%|██████████| 618M/618M [01:01<00:00, 10.0MB/s]\n",
      "Downloading data: 100%|██████████| 629M/629M [01:04<00:00, 9.75MB/s]\n",
      "Downloading data: 100%|██████████| 626M/626M [01:05<00:00, 9.50MB/s]\n",
      "Downloading data: 100%|██████████| 377M/377M [01:06<00:00, 5.66MB/s]\n",
      "Downloading data: 100%|██████████| 627M/627M [01:07<00:00, 9.30MB/s]\n",
      "Downloading data: 100%|██████████| 619M/619M [01:01<00:00, 10.0MB/s]\n",
      "Downloading data: 100%|██████████| 630M/630M [01:14<00:00, 8.45MB/s]\n",
      "Downloading data: 100%|██████████| 626M/626M [01:16<00:00, 8.18MB/s]\n",
      "Downloading data: 100%|██████████| 625M/625M [01:39<00:00, 6.26MB/s]\n",
      "Downloading data: 100%|██████████| 621M/621M [01:41<00:00, 6.09MB/s]\n",
      "Downloading data: 100%|██████████| 629M/629M [01:42<00:00, 6.13MB/s]\n",
      "Downloading data: 100%|██████████| 625M/625M [01:46<00:00, 5.84MB/s]\n",
      "Downloading data: 100%|██████████| 624M/624M [01:43<00:00, 6.02MB/s]\n",
      "Downloading data: 100%|██████████| 625M/625M [01:50<00:00, 5.64MB/s]\n",
      "Downloading data: 100%|██████████| 633M/633M [01:52<00:00, 5.62MB/s]\n",
      "Downloading data: 100%|██████████| 619M/619M [01:03<00:00, 9.73MB/s]\n",
      "Setting num_proc from 60 to 21 for the train split as it only contains 21 shards.\n",
      "Generating train split: 100%|██████████| 8013769/8013769 [01:33<00:00, 85871.37 examples/s] \n"
     ]
    }
   ],
   "source": [
    "\n",
    "from datasets import load_dataset # huggingface datasets\n",
    "dataset = load_dataset(\"openwebtext\", num_proc=60 , cache_dir=\"./.cache\")"
   ]
  },
  {
   "cell_type": "code",
   "execution_count": 5,
   "metadata": {},
   "outputs": [],
   "source": [
    "from transformers import AutoModelForCausalLM, AutoTokenizer\n",
    "\n",
    "tokenizer= AutoTokenizer.from_pretrained(\"gpt2\", cache_dir=\"./.cache\")\n",
    "model = AutoModelForCausalLM.from_pretrained(\"gpt2\", cache_dir=\"./.cache\")\n"
   ]
  },
  {
   "cell_type": "code",
   "execution_count": 7,
   "metadata": {},
   "outputs": [
    {
     "data": {
      "text/plain": [
       "124439808"
      ]
     },
     "execution_count": 7,
     "metadata": {},
     "output_type": "execute_result"
    }
   ],
   "source": [
    "model.num_parameters()"
   ]
  },
  {
   "cell_type": "code",
   "execution_count": 6,
   "metadata": {},
   "outputs": [
    {
     "data": {
      "text/plain": [
       "GPT2LMHeadModel(\n",
       "  (transformer): GPT2Model(\n",
       "    (wte): Embedding(50257, 768)\n",
       "    (wpe): Embedding(1024, 768)\n",
       "    (drop): Dropout(p=0.1, inplace=False)\n",
       "    (h): ModuleList(\n",
       "      (0-11): 12 x GPT2Block(\n",
       "        (ln_1): LayerNorm((768,), eps=1e-05, elementwise_affine=True)\n",
       "        (attn): GPT2Attention(\n",
       "          (c_attn): Conv1D()\n",
       "          (c_proj): Conv1D()\n",
       "          (attn_dropout): Dropout(p=0.1, inplace=False)\n",
       "          (resid_dropout): Dropout(p=0.1, inplace=False)\n",
       "        )\n",
       "        (ln_2): LayerNorm((768,), eps=1e-05, elementwise_affine=True)\n",
       "        (mlp): GPT2MLP(\n",
       "          (c_fc): Conv1D()\n",
       "          (c_proj): Conv1D()\n",
       "          (act): NewGELUActivation()\n",
       "          (dropout): Dropout(p=0.1, inplace=False)\n",
       "        )\n",
       "      )\n",
       "    )\n",
       "    (ln_f): LayerNorm((768,), eps=1e-05, elementwise_affine=True)\n",
       "  )\n",
       "  (lm_head): Linear(in_features=768, out_features=50257, bias=False)\n",
       ")"
      ]
     },
     "execution_count": 6,
     "metadata": {},
     "output_type": "execute_result"
    }
   ],
   "source": [
    "model"
   ]
  },
  {
   "cell_type": "code",
   "execution_count": 3,
   "metadata": {},
   "outputs": [
    {
     "name": "stdout",
     "output_type": "stream",
     "text": [
      "tensor([[[[1., 1., 1., 1.],\n",
      "          [1., 1., 1., 1.],\n",
      "          [1., 1., 1., 1.]]]])\n",
      "tensor([[[[1., 1., 1., 1.],\n",
      "          [1., 1., 1., 1.],\n",
      "          [1., 1., 1., 1.]]]], device='cuda:0')\n"
     ]
    }
   ],
   "source": [
    "import torch\n",
    "from transformers import FalconModel\n",
    "from torch.nn import functional as F\n",
    "\n",
    "torch.manual_seed(0)\n",
    "\n",
    "a = 3\n",
    "b = 4\n",
    "\n",
    "q = torch.ones(size=(1, 1, a, b))\n",
    "k = torch.ones(size=(1, 1, a, b))\n",
    "v = torch.ones(size=(1, 1, a, b))\n",
    "\n",
    "def check(q, k, v, device):\n",
    "\n",
    "    q = q.to(device)\n",
    "    k = k.to(device)\n",
    "    v = v.to(device)\n",
    "\n",
    "    neg_value = torch.finfo(q.dtype).min\n",
    "    mask = [[1, 1, 1], [1.0, 1.0, 1.0], [1.0, 1.0, 1.0]]\n",
    "    mask = torch.tensor([[mask]]).to(device)\n",
    "\n",
    "    o = F.scaled_dot_product_attention(q, k, v, mask, 0.0, is_causal=False)\n",
    "    print(o)\n",
    "\n",
    "check(q, k, v, \"cpu\")\n",
    "check(q, k, v, \"cuda\")"
   ]
  },
  {
   "cell_type": "code",
   "execution_count": 13,
   "metadata": {},
   "outputs": [
    {
     "name": "stdout",
     "output_type": "stream",
     "text": [
      "tensor([1, 1, 2, 2, 3, 3])\n"
     ]
    }
   ],
   "source": [
    "import torch\n",
    "\n",
    "# Define the original array\n",
    "original_array = torch.tensor([1, 2, 3])\n",
    "\n",
    "# Duplicate each element and concatenate them\n",
    "duplicated_array = original_array.repeat_interleave(2)\n",
    "\n",
    "print(duplicated_array)\n"
   ]
  },
  {
   "cell_type": "code",
   "execution_count": 18,
   "metadata": {},
   "outputs": [
    {
     "data": {
      "text/plain": [
       "tensor([[ True,  True, False, False, False, False],\n",
       "        [ True,  True,  True,  True, False, False],\n",
       "        [ True,  True,  True,  True,  True,  True]])"
      ]
     },
     "execution_count": 18,
     "metadata": {},
     "output_type": "execute_result"
    }
   ],
   "source": [
    "import torch\n",
    "\n",
    "k = 2  # Step size\n",
    "matrix = torch.tril(torch.ones(3, 3, dtype=torch.bool), diagonal=0)\n",
    "matrix.repeat_interleave(2, dim=1)"
   ]
  },
  {
   "cell_type": "code",
   "execution_count": 10,
   "metadata": {},
   "outputs": [
    {
     "name": "stdout",
     "output_type": "stream",
     "text": [
      "tensor([[ 0.,  0.,  0.,  0.],\n",
      "        [-1.,  0.,  0.,  0.],\n",
      "        [-1., -1.,  0.,  0.],\n",
      "        [-1., -1., -1.,  0.]])\n"
     ]
    }
   ],
   "source": [
    "import torch\n",
    "\n",
    "def stepcase_attention(size):\n",
    "    # Create an identity matrix of the specified size\n",
    "    identity_matrix = torch.eye(size)\n",
    "    \n",
    "    # Create a lower triangular matrix with ones below the main diagonal\n",
    "    lower_triangular = torch.tril(torch.ones(size, size))\n",
    "    \n",
    "    # Subtract the lower triangular matrix from the identity matrix\n",
    "    stepcase_matrix = identity_matrix - lower_triangular\n",
    "    \n",
    "    return stepcase_matrix\n",
    "\n",
    "# Example usage:\n",
    "matrix_size = 4\n",
    "output_matrix = stepcase_attention(matrix_size)\n",
    "print(output_matrix)\n"
   ]
  },
  {
   "cell_type": "code",
   "execution_count": 6,
   "metadata": {},
   "outputs": [
    {
     "data": {
      "text/plain": [
       "[tensor([[ 1,  3,  5,  7,  9, 11, 13, 15, 17],\n",
       "         [19, 21, 23, 25, 27, 29, 31, 33, 35]]),\n",
       " tensor([[ 2,  4,  6,  8, 10, 12, 14, 16, 18],\n",
       "         [20, 22, 24, 26, 28, 30, 32, 34, 36]])]"
      ]
     },
     "execution_count": 6,
     "metadata": {},
     "output_type": "execute_result"
    }
   ],
   "source": [
    "import torch\n",
    "\n",
    "x = torch.tensor([[1, 2, 3], [4, 5, 6], [7, 8, 9]])\n",
    "x = torch.arange(1, 37).reshape(2, 18)\n",
    "[x[:, i::2] for i in range(2)]\n",
    "# [:, :, i::self.config.k_regressivity, :] for i, lm_head in enumerate(self.lm_heads)]"
   ]
  },
  {
   "cell_type": "code",
   "execution_count": 27,
   "metadata": {},
   "outputs": [],
   "source": [
    "targets = torch.ones(2, 18)\n",
    "k = 2\n",
    "b = 1\n",
    "t = 10 # seq len\n",
    "n_embd = 1\n",
    "vocab_size = 1\n",
    "# b x (t + (k - 1))\n",
    "\n",
    "x = torch.arange(0, b * t * vocab_size).reshape(b, t, vocab_size)\n",
    "targets = torch.ones(b, t + ( k - 1))\n",
    "\n",
    " # (b, t, n_embd)\n",
    "logits = torch.stack([x[:, i::k, :] for i in range(k)]) # (k, b, t, vocab_size)\n",
    "stacked_targets = torch.stack([targets[:, i:i+t][:, i::k] for i in range(k)], ) # (k, b, t)\n",
    "            "
   ]
  },
  {
   "cell_type": "code",
   "execution_count": 29,
   "metadata": {},
   "outputs": [
    {
     "data": {
      "text/plain": [
       "tensor([[0],\n",
       "        [2],\n",
       "        [4],\n",
       "        [6],\n",
       "        [8]])"
      ]
     },
     "execution_count": 29,
     "metadata": {},
     "output_type": "execute_result"
    }
   ],
   "source": [
    "logits[0, 0]"
   ]
  }
 ],
 "metadata": {
  "kernelspec": {
   "display_name": ".venv",
   "language": "python",
   "name": "python3"
  },
  "language_info": {
   "codemirror_mode": {
    "name": "ipython",
    "version": 3
   },
   "file_extension": ".py",
   "mimetype": "text/x-python",
   "name": "python",
   "nbconvert_exporter": "python",
   "pygments_lexer": "ipython3",
   "version": "3.10.12"
  }
 },
 "nbformat": 4,
 "nbformat_minor": 2
}
