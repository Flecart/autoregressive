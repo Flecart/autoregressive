{
 "cells": [
  {
   "cell_type": "code",
   "execution_count": 3,
   "metadata": {},
   "outputs": [
    {
     "name": "stderr",
     "output_type": "stream",
     "text": [
      "/home/angelo/autoregressive/.venv/lib/python3.10/site-packages/datasets/load.py:1486: FutureWarning: The repository for openwebtext contains custom code which must be executed to correctly load the dataset. You can inspect the repository content at https://hf.co/datasets/openwebtext\n",
      "You can avoid this message in future by passing the argument `trust_remote_code=True`.\n",
      "Passing `trust_remote_code=True` will be mandatory to load this dataset from the next major release of `datasets`.\n",
      "  warnings.warn(\n",
      "Downloading builder script: 100%|██████████| 2.73k/2.73k [00:00<00:00, 17.6MB/s]\n",
      "Downloading readme: 100%|██████████| 7.33k/7.33k [00:00<00:00, 11.9MB/s]\n",
      "Downloading data: 100%|██████████| 627M/627M [00:30<00:00, 20.8MB/s]\n",
      "Downloading data: 100%|██████████| 625M/625M [00:44<00:00, 14.2MB/s]\n",
      "Downloading data: 100%|██████████| 619M/619M [00:47<00:00, 12.9MB/s]\n",
      "Downloading data: 100%|██████████| 628M/628M [00:55<00:00, 11.2MB/s]\n",
      "Downloading data: 100%|██████████| 629M/629M [01:00<00:00, 10.3MB/s]\n",
      "Downloading data: 100%|██████████| 618M/618M [01:01<00:00, 10.0MB/s]\n",
      "Downloading data: 100%|██████████| 629M/629M [01:04<00:00, 9.75MB/s]\n",
      "Downloading data: 100%|██████████| 626M/626M [01:05<00:00, 9.50MB/s]\n",
      "Downloading data: 100%|██████████| 377M/377M [01:06<00:00, 5.66MB/s]\n",
      "Downloading data: 100%|██████████| 627M/627M [01:07<00:00, 9.30MB/s]\n",
      "Downloading data: 100%|██████████| 619M/619M [01:01<00:00, 10.0MB/s]\n",
      "Downloading data: 100%|██████████| 630M/630M [01:14<00:00, 8.45MB/s]\n",
      "Downloading data: 100%|██████████| 626M/626M [01:16<00:00, 8.18MB/s]\n",
      "Downloading data: 100%|██████████| 625M/625M [01:39<00:00, 6.26MB/s]\n",
      "Downloading data: 100%|██████████| 621M/621M [01:41<00:00, 6.09MB/s]\n",
      "Downloading data: 100%|██████████| 629M/629M [01:42<00:00, 6.13MB/s]\n",
      "Downloading data: 100%|██████████| 625M/625M [01:46<00:00, 5.84MB/s]\n",
      "Downloading data: 100%|██████████| 624M/624M [01:43<00:00, 6.02MB/s]\n",
      "Downloading data: 100%|██████████| 625M/625M [01:50<00:00, 5.64MB/s]\n",
      "Downloading data: 100%|██████████| 633M/633M [01:52<00:00, 5.62MB/s]\n",
      "Downloading data: 100%|██████████| 619M/619M [01:03<00:00, 9.73MB/s]\n",
      "Setting num_proc from 60 to 21 for the train split as it only contains 21 shards.\n",
      "Generating train split: 100%|██████████| 8013769/8013769 [01:33<00:00, 85871.37 examples/s] \n"
     ]
    }
   ],
   "source": [
    "\n",
    "from datasets import load_dataset # huggingface datasets\n",
    "dataset = load_dataset(\"openwebtext\", num_proc=60 , cache_dir=\"./.cache\")"
   ]
  },
  {
   "cell_type": "code",
   "execution_count": 5,
   "metadata": {},
   "outputs": [],
   "source": [
    "from transformers import AutoModelForCausalLM, AutoTokenizer\n",
    "\n",
    "tokenizer= AutoTokenizer.from_pretrained(\"gpt2\", cache_dir=\"./.cache\")\n",
    "model = AutoModelForCausalLM.from_pretrained(\"gpt2\", cache_dir=\"./.cache\")\n"
   ]
  },
  {
   "cell_type": "code",
   "execution_count": 7,
   "metadata": {},
   "outputs": [
    {
     "data": {
      "text/plain": [
       "124439808"
      ]
     },
     "execution_count": 7,
     "metadata": {},
     "output_type": "execute_result"
    }
   ],
   "source": [
    "model.num_parameters()"
   ]
  },
  {
   "cell_type": "code",
   "execution_count": 6,
   "metadata": {},
   "outputs": [
    {
     "data": {
      "text/plain": [
       "GPT2LMHeadModel(\n",
       "  (transformer): GPT2Model(\n",
       "    (wte): Embedding(50257, 768)\n",
       "    (wpe): Embedding(1024, 768)\n",
       "    (drop): Dropout(p=0.1, inplace=False)\n",
       "    (h): ModuleList(\n",
       "      (0-11): 12 x GPT2Block(\n",
       "        (ln_1): LayerNorm((768,), eps=1e-05, elementwise_affine=True)\n",
       "        (attn): GPT2Attention(\n",
       "          (c_attn): Conv1D()\n",
       "          (c_proj): Conv1D()\n",
       "          (attn_dropout): Dropout(p=0.1, inplace=False)\n",
       "          (resid_dropout): Dropout(p=0.1, inplace=False)\n",
       "        )\n",
       "        (ln_2): LayerNorm((768,), eps=1e-05, elementwise_affine=True)\n",
       "        (mlp): GPT2MLP(\n",
       "          (c_fc): Conv1D()\n",
       "          (c_proj): Conv1D()\n",
       "          (act): NewGELUActivation()\n",
       "          (dropout): Dropout(p=0.1, inplace=False)\n",
       "        )\n",
       "      )\n",
       "    )\n",
       "    (ln_f): LayerNorm((768,), eps=1e-05, elementwise_affine=True)\n",
       "  )\n",
       "  (lm_head): Linear(in_features=768, out_features=50257, bias=False)\n",
       ")"
      ]
     },
     "execution_count": 6,
     "metadata": {},
     "output_type": "execute_result"
    }
   ],
   "source": [
    "model"
   ]
  }
 ],
 "metadata": {
  "kernelspec": {
   "display_name": ".venv",
   "language": "python",
   "name": "python3"
  },
  "language_info": {
   "codemirror_mode": {
    "name": "ipython",
    "version": 3
   },
   "file_extension": ".py",
   "mimetype": "text/x-python",
   "name": "python",
   "nbconvert_exporter": "python",
   "pygments_lexer": "ipython3",
   "version": "3.10.12"
  }
 },
 "nbformat": 4,
 "nbformat_minor": 2
}
